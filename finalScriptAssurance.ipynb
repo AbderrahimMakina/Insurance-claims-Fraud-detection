{
 "cells": [
  {
   "cell_type": "code",
   "execution_count": 1,
   "metadata": {},
   "outputs": [],
   "source": [
    "import pandas as pd\n"
   ]
  },
  {
   "cell_type": "code",
   "execution_count": 2,
   "metadata": {},
   "outputs": [],
   "source": [
    "fake = pd.read_csv(\"C:/Users/abder/Desktop/fake.csv\", header = 0 ,sep=\";\")\n",
    "\n",
    "true = pd.read_csv(\"C:/Users/abder/Desktop/true.csv\", header = 0 ,sep=\";\")"
   ]
  },
  {
   "cell_type": "code",
   "execution_count": 3,
   "metadata": {},
   "outputs": [
    {
     "name": "stdout",
     "output_type": "stream",
     "text": [
      "1029\n",
      "1594\n"
     ]
    }
   ],
   "source": [
    "print(len(fake))\n",
    "print(len(true))"
   ]
  },
  {
   "cell_type": "code",
   "execution_count": 4,
   "metadata": {},
   "outputs": [
    {
     "data": {
      "text/plain": [
       "'I slipped when it was raining and then I found myself in the hospital'"
      ]
     },
     "execution_count": 4,
     "metadata": {},
     "output_type": "execute_result"
    }
   ],
   "source": [
    "fake.iloc[0,1]"
   ]
  },
  {
   "cell_type": "code",
   "execution_count": 5,
   "metadata": {},
   "outputs": [
    {
     "data": {
      "text/html": [
       "<div>\n",
       "<style scoped>\n",
       "    .dataframe tbody tr th:only-of-type {\n",
       "        vertical-align: middle;\n",
       "    }\n",
       "\n",
       "    .dataframe tbody tr th {\n",
       "        vertical-align: top;\n",
       "    }\n",
       "\n",
       "    .dataframe thead th {\n",
       "        text-align: right;\n",
       "    }\n",
       "</style>\n",
       "<table border=\"1\" class=\"dataframe\">\n",
       "  <thead>\n",
       "    <tr style=\"text-align: right;\">\n",
       "      <th></th>\n",
       "      <th>ville</th>\n",
       "      <th>description</th>\n",
       "      <th>isFraud</th>\n",
       "      <th>date</th>\n",
       "    </tr>\n",
       "  </thead>\n",
       "  <tbody>\n",
       "    <tr>\n",
       "      <th>0</th>\n",
       "      <td>kairouan</td>\n",
       "      <td>I slipped when it was raining and then I found...</td>\n",
       "      <td>fake</td>\n",
       "      <td>\"01/01/2019\"</td>\n",
       "    </tr>\n",
       "    <tr>\n",
       "      <th>1</th>\n",
       "      <td>sousse</td>\n",
       "      <td>This should state whether the incident was res...</td>\n",
       "      <td>fake</td>\n",
       "      <td>\"01/01/2019\"</td>\n",
       "    </tr>\n",
       "    <tr>\n",
       "      <th>2</th>\n",
       "      <td>monastir</td>\n",
       "      <td>It is believed the wire should not have been s...</td>\n",
       "      <td>fake</td>\n",
       "      <td>\"01/01/2019\"</td>\n",
       "    </tr>\n",
       "    <tr>\n",
       "      <th>3</th>\n",
       "      <td>tunis</td>\n",
       "      <td>I slipped when it was raining and then I found...</td>\n",
       "      <td>fake</td>\n",
       "      <td>\"01/01/2019\"</td>\n",
       "    </tr>\n",
       "    <tr>\n",
       "      <th>4</th>\n",
       "      <td>kairouan</td>\n",
       "      <td>in fact it was really a very risky accident wi...</td>\n",
       "      <td>fake</td>\n",
       "      <td>\"01/01/2019\"</td>\n",
       "    </tr>\n",
       "  </tbody>\n",
       "</table>\n",
       "</div>"
      ],
      "text/plain": [
       "      ville                                        description isFraud  \\\n",
       "0  kairouan  I slipped when it was raining and then I found...    fake   \n",
       "1   sousse   This should state whether the incident was res...    fake   \n",
       "2  monastir  It is believed the wire should not have been s...    fake   \n",
       "3     tunis  I slipped when it was raining and then I found...    fake   \n",
       "4  kairouan  in fact it was really a very risky accident wi...    fake   \n",
       "\n",
       "           date  \n",
       "0  \"01/01/2019\"  \n",
       "1  \"01/01/2019\"  \n",
       "2  \"01/01/2019\"  \n",
       "3  \"01/01/2019\"  \n",
       "4  \"01/01/2019\"  "
      ]
     },
     "execution_count": 5,
     "metadata": {},
     "output_type": "execute_result"
    }
   ],
   "source": [
    "fake.head()\n"
   ]
  },
  {
   "cell_type": "code",
   "execution_count": 6,
   "metadata": {},
   "outputs": [
    {
     "data": {
      "text/html": [
       "<div>\n",
       "<style scoped>\n",
       "    .dataframe tbody tr th:only-of-type {\n",
       "        vertical-align: middle;\n",
       "    }\n",
       "\n",
       "    .dataframe tbody tr th {\n",
       "        vertical-align: top;\n",
       "    }\n",
       "\n",
       "    .dataframe thead th {\n",
       "        text-align: right;\n",
       "    }\n",
       "</style>\n",
       "<table border=\"1\" class=\"dataframe\">\n",
       "  <thead>\n",
       "    <tr style=\"text-align: right;\">\n",
       "      <th></th>\n",
       "      <th>ville</th>\n",
       "      <th>description</th>\n",
       "      <th>isFrauad</th>\n",
       "      <th>date</th>\n",
       "    </tr>\n",
       "  </thead>\n",
       "  <tbody>\n",
       "    <tr>\n",
       "      <th>0</th>\n",
       "      <td>kairouan</td>\n",
       "      <td>A pedestrian hit me and went under my car.</td>\n",
       "      <td>True</td>\n",
       "      <td>\"01/01/2019\"</td>\n",
       "    </tr>\n",
       "    <tr>\n",
       "      <th>1</th>\n",
       "      <td>kairouan</td>\n",
       "      <td>The guy was all over the road and I had to swe...</td>\n",
       "      <td>True</td>\n",
       "      <td>\"01/01/2019\"</td>\n",
       "    </tr>\n",
       "    <tr>\n",
       "      <th>2</th>\n",
       "      <td>sousse</td>\n",
       "      <td>I pulled away from the side of the road, glanc...</td>\n",
       "      <td>True</td>\n",
       "      <td>\"01/01/2019\"</td>\n",
       "    </tr>\n",
       "    <tr>\n",
       "      <th>3</th>\n",
       "      <td>monastir</td>\n",
       "      <td>free movement. But nowadays the word is more c...</td>\n",
       "      <td>True</td>\n",
       "      <td>\"01/01/2019\"</td>\n",
       "    </tr>\n",
       "    <tr>\n",
       "      <th>4</th>\n",
       "      <td>tunis</td>\n",
       "      <td>Illness has three definitions. Two of them are...</td>\n",
       "      <td>True</td>\n",
       "      <td>\"01/01/2019\"</td>\n",
       "    </tr>\n",
       "  </tbody>\n",
       "</table>\n",
       "</div>"
      ],
      "text/plain": [
       "      ville                                        description  isFrauad  \\\n",
       "0  kairouan         A pedestrian hit me and went under my car.      True   \n",
       "1  kairouan  The guy was all over the road and I had to swe...      True   \n",
       "2    sousse  I pulled away from the side of the road, glanc...      True   \n",
       "3  monastir  free movement. But nowadays the word is more c...      True   \n",
       "4     tunis  Illness has three definitions. Two of them are...      True   \n",
       "\n",
       "           date  \n",
       "0  \"01/01/2019\"  \n",
       "1  \"01/01/2019\"  \n",
       "2  \"01/01/2019\"  \n",
       "3  \"01/01/2019\"  \n",
       "4  \"01/01/2019\"  "
      ]
     },
     "execution_count": 6,
     "metadata": {},
     "output_type": "execute_result"
    }
   ],
   "source": [
    "true.head()\n"
   ]
  },
  {
   "cell_type": "code",
   "execution_count": 7,
   "metadata": {},
   "outputs": [],
   "source": [
    "import re\n"
   ]
  },
  {
   "cell_type": "code",
   "execution_count": 8,
   "metadata": {},
   "outputs": [],
   "source": [
    "#suppresion des caractères indésirables (@..., #...hashtags, les url, les auteurs à la fin: Photo by... )\n",
    "\n",
    "for i in range (0,len(fake)):\n",
    "    fake.iloc[i,1] = re.sub('.@\\w*. ','', fake.iloc[i,1])\n",
    "\n",
    "for i in range (0,len(true)):\n",
    "    true.iloc[i,1] = re.sub('.@\\w*. ','', true.iloc[i,1])\n",
    "\n",
    "for i in range (0,len(fake)):\n",
    "    fake.iloc[i,1] = re.sub(r'(https|http)?:\\/\\/(\\w|\\.|\\/|\\?|\\=|\\&|\\%)*\\b', '', fake.iloc[i,1], flags=re.MULTILINE)\n",
    "\n",
    "for i in range (0,len(true)):\n",
    "    true.iloc[i,1] = re.sub(r'(https|http)?:\\/\\/(\\w|\\.|\\/|\\?|\\=|\\&|\\%)*\\b', '', true.iloc[i,1], flags=re.MULTILINE)\n",
    "\n",
    "for i in range (0,len(fake)):\n",
    "    fake.iloc[i,1] = re.sub(\"pic.twitter.com.\\w*\", \"\",fake.iloc[i,1])\n",
    "\n",
    "for i in range (0,len(true)):\n",
    "    true.iloc[i,1] = re.sub(\"pic.twitter.com.\\w*\", \"\",true.iloc[i,1])\n",
    "    \n",
    "for i in range (0,len(fake)):\n",
    "    fake.iloc[i,1] = re.sub('Featured image.*|Photo by.*|#\\w*',\"\",fake.iloc[i,1])\n",
    "\n",
    "for i in range (0,len(true)):\n",
    "    true.iloc[i,1] = re.sub('Featured image.*|Photo by.*|#\\w*',\"\",true.iloc[i,1])"
   ]
  },
  {
   "cell_type": "code",
   "execution_count": 9,
   "metadata": {},
   "outputs": [],
   "source": [
    "'''En vue de donner les fonctions des mots (tagging) et d'identifier les mots les plus fréquents, on fusionne\n",
    "les textes dans chaque base de données''' \n",
    "\n",
    "S_true= \"\"\n",
    "for i in range (0,len(true)):\n",
    "    S_true = S_true + true.iloc[i,1]"
   ]
  },
  {
   "cell_type": "code",
   "execution_count": 10,
   "metadata": {},
   "outputs": [],
   "source": [
    "\n",
    "S_fake= \"\"\n",
    "for i in range (0,len(fake)):\n",
    "    S_fake = S_fake + fake.iloc[i,1]"
   ]
  },
  {
   "cell_type": "code",
   "execution_count": 11,
   "metadata": {},
   "outputs": [
    {
     "name": "stderr",
     "output_type": "stream",
     "text": [
      "[nltk_data] Downloading package punkt to\n",
      "[nltk_data]     C:\\Users\\abder\\AppData\\Roaming\\nltk_data...\n",
      "[nltk_data]   Package punkt is already up-to-date!\n"
     ]
    },
    {
     "data": {
      "text/plain": [
       "True"
      ]
     },
     "execution_count": 11,
     "metadata": {},
     "output_type": "execute_result"
    }
   ],
   "source": [
    "#importation du package natural langage toolkit et de package pour tokenizer (séparer le texte en mots)\n",
    "\n",
    "import nltk\n",
    "nltk.download(\"punkt\")"
   ]
  },
  {
   "cell_type": "code",
   "execution_count": 12,
   "metadata": {},
   "outputs": [
    {
     "name": "stderr",
     "output_type": "stream",
     "text": [
      "[nltk_data] Downloading package averaged_perceptron_tagger to\n",
      "[nltk_data]     C:\\Users\\abder\\AppData\\Roaming\\nltk_data...\n",
      "[nltk_data]   Package averaged_perceptron_tagger is already up-to-\n",
      "[nltk_data]       date!\n"
     ]
    }
   ],
   "source": [
    "##importation du package pour identifier les fonction des mots\n",
    "\n",
    "nltk.download(\"averaged_perceptron_tagger\")\n",
    "from nltk.tag import pos_tag"
   ]
  },
  {
   "cell_type": "code",
   "execution_count": 13,
   "metadata": {},
   "outputs": [],
   "source": [
    "tokenizer = nltk.RegexpTokenizer(r\"\\w+\") ## on choisit une méthode de tokenization qui supprime la ponctuation\n",
    "tokens_fake = tokenizer.tokenize(S_fake.lower()) ## tokenizer en suprimant la ponctuation et meetre en minuscule le texte\n",
    "S_fake = nltk.Text(tokens_fake) \n",
    "tags_f = nltk.pos_tag(S_fake)  #attribuer la fonction de chaque mot"
   ]
  },
  {
   "cell_type": "code",
   "execution_count": 14,
   "metadata": {},
   "outputs": [],
   "source": [
    "##importer un package qui compte les mots \n",
    "\n",
    "from collections import Counter\n",
    "counts_tag_fake = Counter(tag for word,tag in tags_f)"
   ]
  },
  {
   "cell_type": "code",
   "execution_count": 15,
   "metadata": {},
   "outputs": [],
   "source": [
    "##effectuer le compte dans la base fake\n",
    "\n",
    "total_f = sum(counts_tag_fake.values())\n",
    "d_f= dict((word, float(count)/total_f) for word,count in counts_tag_fake.items())"
   ]
  },
  {
   "cell_type": "code",
   "execution_count": 16,
   "metadata": {},
   "outputs": [],
   "source": [
    "tokens_true = tokenizer.tokenize(S_true.lower())\n",
    "S_true = nltk.Text(tokens_true)\n",
    "tags_t = nltk.pos_tag(S_true)"
   ]
  },
  {
   "cell_type": "code",
   "execution_count": 19,
   "metadata": {},
   "outputs": [],
   "source": [
    "counts_tag_true = Counter(tag for word,tag in tags_t)\n"
   ]
  },
  {
   "cell_type": "code",
   "execution_count": 20,
   "metadata": {},
   "outputs": [],
   "source": [
    "##faire le total de chaque fonction de mots : i.e : compter tous les noms \n",
    "\n",
    "total_t = sum(counts_tag_true.values())\n",
    "d_t= dict((word, float(count)/total_f) for word,count in counts_tag_true.items())"
   ]
  },
  {
   "cell_type": "code",
   "execution_count": 22,
   "metadata": {},
   "outputs": [],
   "source": [
    "import matplotlib.pyplot as plt\n",
    "import numpy as np"
   ]
  },
  {
   "cell_type": "code",
   "execution_count": 23,
   "metadata": {},
   "outputs": [
    {
     "name": "stderr",
     "output_type": "stream",
     "text": [
      "[nltk_data] Downloading package stopwords to\n",
      "[nltk_data]     C:\\Users\\abder\\AppData\\Roaming\\nltk_data...\n",
      "[nltk_data]   Package stopwords is already up-to-date!\n"
     ]
    }
   ],
   "source": [
    "nltk.download(\"stopwords\")\n",
    "from nltk.tokenize import word_tokenize\n",
    "from nltk.corpus import stopwords"
   ]
  },
  {
   "cell_type": "code",
   "execution_count": 26,
   "metadata": {},
   "outputs": [],
   "source": [
    "##spécifier qu'on veut des stopword anglais\n",
    "stop_words = set(stopwords.words('english'))"
   ]
  },
  {
   "cell_type": "code",
   "execution_count": 27,
   "metadata": {},
   "outputs": [],
   "source": [
    "##filtrer les stopwords\n",
    "\n",
    "stop_words = set(stopwords.words('english'))\n",
    "filtered_fake = [] \n",
    "  \n",
    "for w in S_fake: \n",
    "    if w not in stop_words: \n",
    "        filtered_fake.append(w)"
   ]
  },
  {
   "cell_type": "code",
   "execution_count": 28,
   "metadata": {},
   "outputs": [],
   "source": [
    "import collections\n",
    "counts_nsw_f = collections.Counter(filtered_fake)"
   ]
  },
  {
   "cell_type": "code",
   "execution_count": 29,
   "metadata": {},
   "outputs": [],
   "source": [
    "filtered_true = [] \n",
    "  \n",
    "for w in S_true: \n",
    "    if w not in stop_words: \n",
    "        filtered_true.append(w)"
   ]
  },
  {
   "cell_type": "code",
   "execution_count": 30,
   "metadata": {},
   "outputs": [],
   "source": [
    "##compter combien de fois chaque mot revient\n",
    "\n",
    "counts_nsw_t = collections.Counter(filtered_true)"
   ]
  },
  {
   "cell_type": "code",
   "execution_count": 31,
   "metadata": {},
   "outputs": [
    {
     "data": {
      "text/html": [
       "<div>\n",
       "<style scoped>\n",
       "    .dataframe tbody tr th:only-of-type {\n",
       "        vertical-align: middle;\n",
       "    }\n",
       "\n",
       "    .dataframe tbody tr th {\n",
       "        vertical-align: top;\n",
       "    }\n",
       "\n",
       "    .dataframe thead th {\n",
       "        text-align: right;\n",
       "    }\n",
       "</style>\n",
       "<table border=\"1\" class=\"dataframe\">\n",
       "  <thead>\n",
       "    <tr style=\"text-align: right;\">\n",
       "      <th></th>\n",
       "      <th>words</th>\n",
       "      <th>count</th>\n",
       "    </tr>\n",
       "  </thead>\n",
       "  <tbody>\n",
       "    <tr>\n",
       "      <th>0</th>\n",
       "      <td>collided</td>\n",
       "      <td>1001</td>\n",
       "    </tr>\n",
       "    <tr>\n",
       "      <th>1</th>\n",
       "      <td>way</td>\n",
       "      <td>1000</td>\n",
       "    </tr>\n",
       "    <tr>\n",
       "      <th>2</th>\n",
       "      <td>coming</td>\n",
       "      <td>1000</td>\n",
       "    </tr>\n",
       "    <tr>\n",
       "      <th>3</th>\n",
       "      <td>stationary</td>\n",
       "      <td>999</td>\n",
       "    </tr>\n",
       "    <tr>\n",
       "      <th>4</th>\n",
       "      <td>truck</td>\n",
       "      <td>999</td>\n",
       "    </tr>\n",
       "  </tbody>\n",
       "</table>\n",
       "</div>"
      ],
      "text/plain": [
       "        words  count\n",
       "0    collided   1001\n",
       "1         way   1000\n",
       "2      coming   1000\n",
       "3  stationary    999\n",
       "4       truck    999"
      ]
     },
     "execution_count": 31,
     "metadata": {},
     "output_type": "execute_result"
    }
   ],
   "source": [
    "##regrouper dans dans un dataframe les 10 mots les  plus fréquents avec leurs effectifs respectifs\n",
    "\n",
    "count_mc_f = pd.DataFrame(counts_nsw_f.most_common(10),\n",
    "                             columns=['words', 'count'])\n",
    "count_mc_f.head()"
   ]
  },
  {
   "cell_type": "code",
   "execution_count": 32,
   "metadata": {},
   "outputs": [
    {
     "data": {
      "text/html": [
       "<div>\n",
       "<style scoped>\n",
       "    .dataframe tbody tr th:only-of-type {\n",
       "        vertical-align: middle;\n",
       "    }\n",
       "\n",
       "    .dataframe tbody tr th {\n",
       "        vertical-align: top;\n",
       "    }\n",
       "\n",
       "    .dataframe thead th {\n",
       "        text-align: right;\n",
       "    }\n",
       "</style>\n",
       "<table border=\"1\" class=\"dataframe\">\n",
       "  <thead>\n",
       "    <tr style=\"text-align: right;\">\n",
       "      <th></th>\n",
       "      <th>words</th>\n",
       "      <th>count</th>\n",
       "    </tr>\n",
       "  </thead>\n",
       "  <tbody>\n",
       "    <tr>\n",
       "      <th>0</th>\n",
       "      <td>happened</td>\n",
       "      <td>3128</td>\n",
       "    </tr>\n",
       "    <tr>\n",
       "      <th>1</th>\n",
       "      <td>incident</td>\n",
       "      <td>1566</td>\n",
       "    </tr>\n",
       "    <tr>\n",
       "      <th>2</th>\n",
       "      <td>include</td>\n",
       "      <td>1565</td>\n",
       "    </tr>\n",
       "    <tr>\n",
       "      <th>3</th>\n",
       "      <td>employee</td>\n",
       "      <td>1564</td>\n",
       "    </tr>\n",
       "    <tr>\n",
       "      <th>4</th>\n",
       "      <td>involved</td>\n",
       "      <td>1564</td>\n",
       "    </tr>\n",
       "  </tbody>\n",
       "</table>\n",
       "</div>"
      ],
      "text/plain": [
       "      words  count\n",
       "0  happened   3128\n",
       "1  incident   1566\n",
       "2   include   1565\n",
       "3  employee   1564\n",
       "4  involved   1564"
      ]
     },
     "execution_count": 32,
     "metadata": {},
     "output_type": "execute_result"
    }
   ],
   "source": [
    "count_mc_t = pd.DataFrame(counts_nsw_t.most_common(10),\n",
    "                             columns=['words', 'count'])\n",
    "count_mc_t.head()"
   ]
  },
  {
   "cell_type": "code",
   "execution_count": 33,
   "metadata": {},
   "outputs": [
    {
     "data": {
      "image/png": "[encoded data removed]",
      "text/plain": [
       "<Figure size 864x864 with 1 Axes>"
      ]
     },
     "metadata": {
      "needs_background": "light"
     },
     "output_type": "display_data"
    },
    {
     "data": {
      "text/plain": [
       "<Figure size 432x288 with 0 Axes>"
      ]
     },
     "metadata": {},
     "output_type": "display_data"
    }
   ],
   "source": [
    "##représentation graphique des effectifs des mots les  plus fréquents dans la base des fake news\n",
    "\n",
    "fig, ax = plt.subplots(figsize=(12, 12))\n",
    "\n",
    "# Plot horizontal bar graph\n",
    "count_mc_f.sort_values(by='count').plot.barh(x='words',\n",
    "                      y='count',\n",
    "                      ax=ax,\n",
    "                      color=\"purple\")\n",
    "\n",
    "ax.set_title(\"Les 10 mots les plus fréquents (sans les stopwords)\")\n",
    "\n",
    "plt.show()\n",
    "\n",
    "plt.savefig('fake_words.png')"
   ]
  },
  {
   "cell_type": "code",
   "execution_count": 34,
   "metadata": {},
   "outputs": [
    {
     "data": {
      "image/png": "[encoded data removed]",
      "text/plain": [
       "<Figure size 864x864 with 1 Axes>"
      ]
     },
     "metadata": {
      "needs_background": "light"
     },
     "output_type": "display_data"
    },
    {
     "data": {
      "text/plain": [
       "<Figure size 432x288 with 0 Axes>"
      ]
     },
     "metadata": {},
     "output_type": "display_data"
    }
   ],
   "source": [
    "##représentation graphique des effectifs des mots les  plus fréquents dans la base des true news\n",
    "\n",
    "fig, ax = plt.subplots(figsize=(12, 12))\n",
    "\n",
    "# Plot horizontal bar graph\n",
    "count_mc_t.sort_values(by='count').plot.barh(x='words',\n",
    "                      y='count',\n",
    "                      ax=ax,\n",
    "                      color=\"darkturquoise\")\n",
    "\n",
    "ax.set_title(\"Les 10 mots les plus fréquents (sans les stopwords)\")\n",
    "\n",
    "plt.show()\n",
    "plt.savefig('truee_words.png')"
   ]
  },
  {
   "cell_type": "code",
   "execution_count": 35,
   "metadata": {},
   "outputs": [],
   "source": [
    "#ajoutons à chaque base, la variable  Nature pour indiquer si l'info est vraie ou fausse\n",
    "\n",
    "fake['Nature'] = \"faux\"\n",
    "true['Nature'] = \"vrai\""
   ]
  },
  {
   "cell_type": "code",
   "execution_count": 37,
   "metadata": {},
   "outputs": [],
   "source": [
    "#fusionner les deux bases \n",
    "\n",
    "mabase = fake.append(true,ignore_index=True,sort=True)"
   ]
  },
  {
   "cell_type": "code",
   "execution_count": 38,
   "metadata": {},
   "outputs": [],
   "source": [
    "##tokenization and lowercasing\n",
    "\n",
    "mabase['tokenized_text'] = mabase.apply(lambda row: tokenizer.tokenize((row['description']).lower()) , axis=1)"
   ]
  },
  {
   "cell_type": "code",
   "execution_count": 39,
   "metadata": {},
   "outputs": [],
   "source": [
    "##stopwords removing\n",
    "\n",
    "mabase['wst_text'] = mabase['tokenized_text'].apply(lambda x: [item for item in x if item not in stop_words])"
   ]
  },
  {
   "cell_type": "code",
   "execution_count": 40,
   "metadata": {},
   "outputs": [],
   "source": [
    "#importer la base pour la lemmatisation (stemming)\n",
    "\n",
    "from nltk.stem import PorterStemmer\n",
    "ps = PorterStemmer()"
   ]
  },
  {
   "cell_type": "code",
   "execution_count": 41,
   "metadata": {},
   "outputs": [],
   "source": [
    "##stemming\n",
    "\n",
    "mabase['stem_text'] = mabase['wst_text'].apply(lambda x: [ps.stem(y) for y in x])"
   ]
  },
  {
   "cell_type": "code",
   "execution_count": 42,
   "metadata": {},
   "outputs": [
    {
     "data": {
      "text/plain": [
       "['Nature',\n",
       " 'date',\n",
       " 'description',\n",
       " 'isFrauad',\n",
       " 'isFraud',\n",
       " 'ville',\n",
       " 'tokenized_text',\n",
       " 'wst_text',\n",
       " 'stem_text']"
      ]
     },
     "execution_count": 42,
     "metadata": {},
     "output_type": "execute_result"
    }
   ],
   "source": [
    "list(mabase)"
   ]
  },
  {
   "cell_type": "code",
   "execution_count": 44,
   "metadata": {},
   "outputs": [
    {
     "data": {
      "text/plain": [
       "['slip', 'rain', 'found', 'hospit']"
      ]
     },
     "execution_count": 44,
     "metadata": {},
     "output_type": "execute_result"
    }
   ],
   "source": [
    "mabase.iloc[0,8]\n"
   ]
  },
  {
   "cell_type": "code",
   "execution_count": 45,
   "metadata": {},
   "outputs": [],
   "source": [
    "## lorsqu'on passe ensuite à la classification en utilisant directement cette colonne 'stem_text' une erreur est générée car \n",
    "## car 'stem_text' contient des listes. pour éviter cela nous ramenons les listes contenues dans cette colonne sous forme de \n",
    "## de texte. Pour cela nous créons une nouvelle variable qui va contenir le texte lemmatisé \n",
    "\n",
    "mabase['re_stem_text']=\"\""
   ]
  },
  {
   "cell_type": "code",
   "execution_count": 46,
   "metadata": {},
   "outputs": [],
   "source": [
    "for i in range (0,len(mabase)):\n",
    "    mabase.iloc[i,9] = \" \".join(mabase.iloc[i,8])"
   ]
  },
  {
   "cell_type": "code",
   "execution_count": 47,
   "metadata": {},
   "outputs": [
    {
     "data": {
      "text/plain": [
       "2623"
      ]
     },
     "execution_count": 47,
     "metadata": {},
     "output_type": "execute_result"
    }
   ],
   "source": [
    "\n",
    "x = mabase['re_stem_text']\n",
    "y = mabase.Nature\n",
    "len(y)"
   ]
  },
  {
   "cell_type": "code",
   "execution_count": 48,
   "metadata": {},
   "outputs": [],
   "source": [
    "\n",
    "##construction d'une fonction de graphique pour les matrices de confusion\n",
    "import itertools\n",
    "\n",
    "def plot_confusion_matrix(cm, classes,\n",
    "                          normalize=False,\n",
    "                          title='Confusion matrix',\n",
    "                          cmap=plt.cm.Blues):\n",
    "   \n",
    "    plt.imshow(cm, interpolation='nearest', cmap=cmap)\n",
    "    plt.title(title)\n",
    "    plt.colorbar()\n",
    "    tick_marks = np.arange(len(classes))\n",
    "    plt.xticks(tick_marks, classes, rotation=45)\n",
    "    plt.yticks(tick_marks, classes)\n",
    "\n",
    "    if normalize:\n",
    "        cm = cm.astype('float') / cm.sum(axis=1)[:, np.newaxis]\n",
    "        print(\"Normalized confusion matrix\")\n",
    "    else:\n",
    "        print('Confusion matrix, without normalization')\n",
    "\n",
    "    thresh = cm.max() / 2.\n",
    "    for i, j in itertools.product(range(cm.shape[0]), range(cm.shape[1])):\n",
    "        plt.text(j, i, cm[i, j],\n",
    "                 horizontalalignment=\"center\",verticalalignment = 'bottom',\n",
    "                 color=\"white\" if cm[i, j] > thresh else \"black\")\n",
    "\n",
    "    plt.tight_layout()\n",
    "    plt.ylabel('True label')\n",
    "    plt.xlabel('Predicted label')"
   ]
  },
  {
   "cell_type": "code",
   "execution_count": 61,
   "metadata": {},
   "outputs": [],
   "source": [
    "##importation des differents packages nécessaires\n",
    "\n",
    "from sklearn.model_selection import cross_val_score\n",
    "from sklearn.metrics import accuracy_score, confusion_matrix\n",
    "from sklearn.feature_extraction.text import TfidfVectorizer\n",
    "from sklearn.pipeline import Pipeline\n",
    "from sklearn.naive_bayes import MultinomialNB"
   ]
  },
  {
   "cell_type": "code",
   "execution_count": 62,
   "metadata": {},
   "outputs": [],
   "source": [
    "##méthode de Multinomial Naive Bayesian. Pipeline va permettre de réalisation la tranformartion des données avec tfidf et\n",
    "##de d'apprêter la methode de classification\n",
    "\n",
    "clf_mlb = Pipeline([('vect', TfidfVectorizer(stop_words='english',lowercase=True,ngram_range=(1,1))), ('mlb',MultinomialNB())])"
   ]
  },
  {
   "cell_type": "code",
   "execution_count": 70,
   "metadata": {},
   "outputs": [],
   "source": [
    "from sklearn.linear_model import PassiveAggressiveClassifier\n",
    "from sklearn import tree\n",
    "from sklearn.linear_model import LogisticRegression\n",
    "\n",
    "\n",
    "       \n"
   ]
  },
  {
   "cell_type": "code",
   "execution_count": 73,
   "metadata": {},
   "outputs": [
    {
     "name": "stdout",
     "output_type": "stream",
     "text": [
      "[0.89353612 1.         1.         1.         1.         1.\n",
      " 1.         1.         1.         1.        ]\n",
      "Accuracy: 0.99 (+/- 0.06)\n",
      "Confusion matrix, without normalization\n"
     ]
    },
    {
     "data": {
      "image/png": "[encoded data removed]",
      "text/plain": [
       "<Figure size 432x288 with 2 Axes>"
      ]
     },
     "metadata": {
      "needs_background": "light"
     },
     "output_type": "display_data"
    }
   ],
   "source": [
    "#### méthode de decision tree\n",
    "\n",
    "from sklearn.model_selection import cross_val_predict\n",
    "clf_dt = Pipeline([('vect', TfidfVectorizer(stop_words='english',lowercase=True,ngram_range=(1,1))), ('dt',tree.DecisionTreeClassifier())]) \n",
    "score_dt = cross_val_score(clf_dt,x,y,cv=10,scoring='accuracy')\n",
    "print(score_dt)\n",
    "print(\"Accuracy: %0.2f (+/- %0.2f)\" % (score_dt.mean(), score_dt.std() * 2))\n",
    "y_pred = cross_val_predict(clf_dt,x , y, cv=10)\n",
    "conf_mat = confusion_matrix(y, y_pred,labels=['faux', 'vrai'])\n",
    "plot_confusion_matrix(conf_mat, classes=['faux', 'vrai']) ##dans la fonction de création du graphique pour la matrice de confuision\n",
    "##mettre cmap=plt.cm.Purples et color=\"white\"\n",
    "plt.savefig('dt_mat.png')"
   ]
  },
  {
   "cell_type": "code",
   "execution_count": 74,
   "metadata": {},
   "outputs": [
    {
     "name": "stderr",
     "output_type": "stream",
     "text": [
      "C:\\Users\\abder\\Anaconda3\\lib\\site-packages\\sklearn\\linear_model\\logistic.py:432: FutureWarning: Default solver will be changed to 'lbfgs' in 0.22. Specify a solver to silence this warning.\n",
      "  FutureWarning)\n"
     ]
    },
    {
     "name": "stdout",
     "output_type": "stream",
     "text": [
      "[0.88973384 1.         1.         1.         1.         1.\n",
      " 1.         1.         1.         1.        ]\n",
      "Accuracy: 0.99 (+/- 0.07)\n"
     ]
    },
    {
     "name": "stderr",
     "output_type": "stream",
     "text": [
      "C:\\Users\\abder\\Anaconda3\\lib\\site-packages\\sklearn\\linear_model\\logistic.py:432: FutureWarning: Default solver will be changed to 'lbfgs' in 0.22. Specify a solver to silence this warning.\n",
      "  FutureWarning)\n"
     ]
    },
    {
     "name": "stdout",
     "output_type": "stream",
     "text": [
      "Confusion matrix, without normalization\n"
     ]
    },
    {
     "data": {
      "image/png": "[encoded data removed]",
      "text/plain": [
       "<Figure size 432x288 with 2 Axes>"
      ]
     },
     "metadata": {
      "needs_background": "light"
     },
     "output_type": "display_data"
    }
   ],
   "source": [
    "#### regression logistic\n",
    "\n",
    "clf_lr = Pipeline([('vect', TfidfVectorizer(stop_words='english',lowercase=True,ngram_range=(1,1))), ('lr',LogisticRegression())]) \n",
    "score_lr = cross_val_score(clf_lr,x,y,cv=10,scoring='accuracy')\n",
    "print(score_lr)\n",
    "print(\"Accuracy: %0.2f (+/- %0.2f)\" % (score_lr.mean(), score_lr.std() * 2))\n",
    "y_pred = cross_val_predict(clf_lr,x , y, cv=10)\n",
    "conf_mat = confusion_matrix(y, y_pred,labels=['faux', 'vrai'])\n",
    "plot_confusion_matrix(conf_mat, classes=['faux', 'vrai'])  ##dans la fonction de création du graphique pour la matrice de confuision\n",
    "##mettre cmap=plt.cm.Greys et color=\"white\"\n",
    "plt.savefig('lr_mat.png')"
   ]
  },
  {
   "cell_type": "code",
   "execution_count": 75,
   "metadata": {},
   "outputs": [
    {
     "name": "stdout",
     "output_type": "stream",
     "text": [
      "[0.88593156 1.         1.         1.         1.         1.\n",
      " 1.         1.         1.         1.        ]\n",
      "Confusion matrix, without normalization\n"
     ]
    },
    {
     "data": {
      "image/png": "[encoded data removed]",
      "text/plain": [
       "<Figure size 432x288 with 2 Axes>"
      ]
     },
     "metadata": {
      "needs_background": "light"
     },
     "output_type": "display_data"
    }
   ],
   "source": [
    "#### méthode de PassiveAggrssiveClassifier\n",
    "\n",
    "\n",
    "clf_pac = Pipeline([('vect', TfidfVectorizer(stop_words='english',lowercase=True,ngram_range=(1,1))), ('pac',PassiveAggressiveClassifier())]) \n",
    "score_pac = cross_val_score(clf_pac,x,y,cv=10,scoring='accuracy')\n",
    "print(score_pac)\n",
    "y_pred = cross_val_predict(clf_pac,x, y, cv=10)\n",
    "conf_mat = confusion_matrix(y, y_pred,labels=['faux', 'vrai'])\n",
    "plot_confusion_matrix(conf_mat, classes=['faux', 'vrai'])##dans la fonction de création du graphique pour la matrice de confuision\n",
    "##mettre cmap=plt.cm.Blues et color=\"white\"\n",
    "plt.savefig('pac_mat.png')"
   ]
  },
  {
   "cell_type": "code",
   "execution_count": 76,
   "metadata": {},
   "outputs": [
    {
     "name": "stdout",
     "output_type": "stream",
     "text": [
      "Accuracy: 0.99 (+/- 0.07)\n"
     ]
    }
   ],
   "source": [
    "print(\"Accuracy: %0.2f (+/- %0.2f)\" % (score_pac.mean(), score_pac.std() * 2))"
   ]
  },
  {
   "cell_type": "code",
   "execution_count": 77,
   "metadata": {},
   "outputs": [],
   "source": [
    "tfidf_vectorizer = TfidfVectorizer(max_df=0.8, min_df=2,\n",
    "                                   max_features=1000)\n",
    "tfidf = tfidf_vectorizer.fit_transform(mabase['re_stem_text'])"
   ]
  },
  {
   "cell_type": "code",
   "execution_count": 78,
   "metadata": {},
   "outputs": [],
   "source": [
    "from sklearn.decomposition import NMF, LatentDirichletAllocation"
   ]
  },
  {
   "cell_type": "code",
   "execution_count": 79,
   "metadata": {},
   "outputs": [],
   "source": [
    "## ici on essaie de mettre en oeuvre la méthode LDA pour la détection de thématiques, afin d'aller au delà de l'objectif de \n",
    "## classification et pour mieux comprendre la base de données dont nous disposons. Il faudra réexcuter cette section pour voir\n",
    "## le graohique interactif \n",
    "\n",
    "lda = LatentDirichletAllocation(n_components=10, max_iter=5,\n",
    "                                learning_method='online',\n",
    "                                learning_offset=50.,\n",
    "                                random_state=0)"
   ]
  },
  {
   "cell_type": "code",
   "execution_count": 80,
   "metadata": {},
   "outputs": [
    {
     "data": {
      "text/plain": [
       "['number', 'olli', 'one']"
      ]
     },
     "execution_count": 80,
     "metadata": {},
     "output_type": "execute_result"
    }
   ],
   "source": [
    "tf_feature_names = tfidf_vectorizer.get_feature_names()\n",
    "tf_feature_names[100:103]"
   ]
  },
  {
   "cell_type": "code",
   "execution_count": 81,
   "metadata": {},
   "outputs": [],
   "source": [
    "def print_top_words(model, feature_names, n_top_words):\n",
    "    for topic_idx, topic in enumerate(model.components_):\n",
    "        print(\"Topic #%d:\" % topic_idx)\n",
    "        print(\" \".join([feature_names[i]\n",
    "                        for i in topic.argsort()[- n_top_words - 1:][::-1]]))\n",
    "    print()"
   ]
  },
  {
   "cell_type": "code",
   "execution_count": 82,
   "metadata": {},
   "outputs": [
    {
     "name": "stdout",
     "output_type": "stream",
     "text": [
      "Topic #0:\n",
      "burn accid honest health whether day state home present prevent hous\n",
      "Topic #1:\n",
      "health diseas head mean case thought judgment difficult part one play\n",
      "Topic #2:\n",
      "like form headach condit day sever woke stiff deezi two last\n",
      "Topic #3:\n",
      "realli fact leg injuri doctor day gave certif damag felt accid\n",
      "Topic #4:\n",
      "stationari truck come collid way went day realli work problem fell\n",
      "Topic #5:\n",
      "hospit found slip experi rain health ill exampl diseas munchausen syndrom\n",
      "Topic #6:\n",
      "happen workplac involv employe exactli includ incid health exampl similar mean\n",
      "Topic #7:\n",
      "patient diseas contest detail left happen understand medic mean suffer claim\n",
      "Topic #8:\n",
      "hous accid home broken play slip come collid timothi nearbi center\n",
      "Topic #9:\n",
      "without car hit went small use word well road ill see\n",
      "\n"
     ]
    }
   ],
   "source": [
    "##thématiques les plus fréquentes\n",
    "\n",
    "lda.fit(tfidf)\n",
    "print_top_words(lda, tf_feature_names, 10)"
   ]
  },
  {
   "cell_type": "code",
   "execution_count": 83,
   "metadata": {},
   "outputs": [
    {
     "data": {
      "text/plain": [
       "array([[0.03335274, 0.033353  , 0.03335274, 0.03335274, 0.03335273,\n",
       "        0.69982422, 0.03335273, 0.03335274, 0.03335356, 0.0333528 ],\n",
       "       [0.64452348, 0.03938521, 0.0393826 , 0.03938259, 0.03938258,\n",
       "        0.03938302, 0.0403883 , 0.03940555, 0.0393826 , 0.03938408],\n",
       "       [0.02899302, 0.02899301, 0.02899302, 0.02899302, 0.02899301,\n",
       "        0.02899454, 0.02899301, 0.02899302, 0.02899871, 0.73905566],\n",
       "       [0.03335274, 0.033353  , 0.03335274, 0.03335274, 0.03335273,\n",
       "        0.69982422, 0.03335273, 0.03335274, 0.03335356, 0.0333528 ],\n",
       "       [0.03336798, 0.03336043, 0.03336043, 0.69974516, 0.03336043,\n",
       "        0.0333605 , 0.03336043, 0.03336043, 0.03336347, 0.03336074]])"
      ]
     },
     "execution_count": 83,
     "metadata": {},
     "output_type": "execute_result"
    }
   ],
   "source": [
    "tr = lda.transform(tfidf)\n",
    "tr[:5]"
   ]
  },
  {
   "cell_type": "code",
   "execution_count": 86,
   "metadata": {},
   "outputs": [
    {
     "ename": "ImportError",
     "evalue": "numpy version 1.17.0 or later must be installed to use Astropy. ",
     "output_type": "error",
     "traceback": [
      "\u001b[1;31m---------------------------------------------------------------------------\u001b[0m",
      "\u001b[1;31mImportError\u001b[0m                               Traceback (most recent call last)",
      "\u001b[1;32m<ipython-input-86-6a00893fb3e1>\u001b[0m in \u001b[0;36m<module>\u001b[1;34m\u001b[0m\n\u001b[1;32m----> 1\u001b[1;33m \u001b[1;32mimport\u001b[0m \u001b[0mpandas_profiling\u001b[0m\u001b[1;33m\u001b[0m\u001b[1;33m\u001b[0m\u001b[0m\n\u001b[0m",
      "\u001b[1;32m~\\Anaconda3\\lib\\site-packages\\pandas_profiling\\__init__.py\u001b[0m in \u001b[0;36m<module>\u001b[1;34m\u001b[0m\n\u001b[0;32m     18\u001b[0m \u001b[1;32mfrom\u001b[0m \u001b[0mpandas_profiling\u001b[0m\u001b[1;33m.\u001b[0m\u001b[0mutils\u001b[0m\u001b[1;33m.\u001b[0m\u001b[0mpaths\u001b[0m \u001b[1;32mimport\u001b[0m \u001b[0mget_config_default\u001b[0m\u001b[1;33m,\u001b[0m \u001b[0mget_config_minimal\u001b[0m\u001b[1;33m\u001b[0m\u001b[1;33m\u001b[0m\u001b[0m\n\u001b[0;32m     19\u001b[0m \u001b[1;32mfrom\u001b[0m \u001b[0mpandas_profiling\u001b[0m\u001b[1;33m.\u001b[0m\u001b[0mconfig\u001b[0m \u001b[1;32mimport\u001b[0m \u001b[0mconfig\u001b[0m\u001b[1;33m\u001b[0m\u001b[1;33m\u001b[0m\u001b[0m\n\u001b[1;32m---> 20\u001b[1;33m \u001b[1;32mfrom\u001b[0m \u001b[0mpandas_profiling\u001b[0m\u001b[1;33m.\u001b[0m\u001b[0mcontroller\u001b[0m \u001b[1;32mimport\u001b[0m \u001b[0mpandas_decorator\u001b[0m\u001b[1;33m\u001b[0m\u001b[1;33m\u001b[0m\u001b[0m\n\u001b[0m\u001b[0;32m     21\u001b[0m \u001b[1;32mfrom\u001b[0m \u001b[0mpandas_profiling\u001b[0m\u001b[1;33m.\u001b[0m\u001b[0mmodel\u001b[0m\u001b[1;33m.\u001b[0m\u001b[0mdescribe\u001b[0m \u001b[1;32mimport\u001b[0m \u001b[0mdescribe\u001b[0m \u001b[1;32mas\u001b[0m \u001b[0mdescribe_df\u001b[0m\u001b[1;33m\u001b[0m\u001b[1;33m\u001b[0m\u001b[0m\n\u001b[0;32m     22\u001b[0m \u001b[1;32mfrom\u001b[0m \u001b[0mpandas_profiling\u001b[0m\u001b[1;33m.\u001b[0m\u001b[0mmodel\u001b[0m\u001b[1;33m.\u001b[0m\u001b[0mmessages\u001b[0m \u001b[1;32mimport\u001b[0m \u001b[0mMessageType\u001b[0m\u001b[1;33m\u001b[0m\u001b[1;33m\u001b[0m\u001b[0m\n",
      "\u001b[1;32m~\\Anaconda3\\lib\\site-packages\\pandas_profiling\\controller\\pandas_decorator.py\u001b[0m in \u001b[0;36m<module>\u001b[1;34m\u001b[0m\n\u001b[0;32m      2\u001b[0m \u001b[1;32mfrom\u001b[0m \u001b[0mpandas\u001b[0m \u001b[1;32mimport\u001b[0m \u001b[0mDataFrame\u001b[0m\u001b[1;33m\u001b[0m\u001b[1;33m\u001b[0m\u001b[0m\n\u001b[0;32m      3\u001b[0m \u001b[1;33m\u001b[0m\u001b[0m\n\u001b[1;32m----> 4\u001b[1;33m \u001b[1;32mfrom\u001b[0m \u001b[0mpandas_profiling\u001b[0m\u001b[1;33m.\u001b[0m\u001b[0m__init__\u001b[0m \u001b[1;32mimport\u001b[0m \u001b[0mProfileReport\u001b[0m\u001b[1;33m\u001b[0m\u001b[1;33m\u001b[0m\u001b[0m\n\u001b[0m\u001b[0;32m      5\u001b[0m \u001b[1;33m\u001b[0m\u001b[0m\n\u001b[0;32m      6\u001b[0m \u001b[1;33m\u001b[0m\u001b[0m\n",
      "\u001b[1;32m~\\Anaconda3\\lib\\site-packages\\pandas_profiling\\__init__.py\u001b[0m in \u001b[0;36m<module>\u001b[1;34m\u001b[0m\n\u001b[0;32m     19\u001b[0m \u001b[1;32mfrom\u001b[0m \u001b[0mpandas_profiling\u001b[0m\u001b[1;33m.\u001b[0m\u001b[0mconfig\u001b[0m \u001b[1;32mimport\u001b[0m \u001b[0mconfig\u001b[0m\u001b[1;33m\u001b[0m\u001b[1;33m\u001b[0m\u001b[0m\n\u001b[0;32m     20\u001b[0m \u001b[1;32mfrom\u001b[0m \u001b[0mpandas_profiling\u001b[0m\u001b[1;33m.\u001b[0m\u001b[0mcontroller\u001b[0m \u001b[1;32mimport\u001b[0m \u001b[0mpandas_decorator\u001b[0m\u001b[1;33m\u001b[0m\u001b[1;33m\u001b[0m\u001b[0m\n\u001b[1;32m---> 21\u001b[1;33m \u001b[1;32mfrom\u001b[0m \u001b[0mpandas_profiling\u001b[0m\u001b[1;33m.\u001b[0m\u001b[0mmodel\u001b[0m\u001b[1;33m.\u001b[0m\u001b[0mdescribe\u001b[0m \u001b[1;32mimport\u001b[0m \u001b[0mdescribe\u001b[0m \u001b[1;32mas\u001b[0m \u001b[0mdescribe_df\u001b[0m\u001b[1;33m\u001b[0m\u001b[1;33m\u001b[0m\u001b[0m\n\u001b[0m\u001b[0;32m     22\u001b[0m \u001b[1;32mfrom\u001b[0m \u001b[0mpandas_profiling\u001b[0m\u001b[1;33m.\u001b[0m\u001b[0mmodel\u001b[0m\u001b[1;33m.\u001b[0m\u001b[0mmessages\u001b[0m \u001b[1;32mimport\u001b[0m \u001b[0mMessageType\u001b[0m\u001b[1;33m\u001b[0m\u001b[1;33m\u001b[0m\u001b[0m\n\u001b[0;32m     23\u001b[0m \u001b[1;32mfrom\u001b[0m \u001b[0mpandas_profiling\u001b[0m\u001b[1;33m.\u001b[0m\u001b[0mreport\u001b[0m \u001b[1;32mimport\u001b[0m \u001b[0mget_report_structure\u001b[0m\u001b[1;33m\u001b[0m\u001b[1;33m\u001b[0m\u001b[0m\n",
      "\u001b[1;32m~\\Anaconda3\\lib\\site-packages\\pandas_profiling\\model\\describe.py\u001b[0m in \u001b[0;36m<module>\u001b[1;34m\u001b[0m\n\u001b[0;32m     12\u001b[0m \u001b[1;32mimport\u001b[0m \u001b[0mnumpy\u001b[0m \u001b[1;32mas\u001b[0m \u001b[0mnp\u001b[0m\u001b[1;33m\u001b[0m\u001b[1;33m\u001b[0m\u001b[0m\n\u001b[0;32m     13\u001b[0m \u001b[1;32mimport\u001b[0m \u001b[0mpandas\u001b[0m \u001b[1;32mas\u001b[0m \u001b[0mpd\u001b[0m\u001b[1;33m\u001b[0m\u001b[1;33m\u001b[0m\u001b[0m\n\u001b[1;32m---> 14\u001b[1;33m \u001b[1;32mfrom\u001b[0m \u001b[0mastropy\u001b[0m\u001b[1;33m.\u001b[0m\u001b[0mstats\u001b[0m \u001b[1;32mimport\u001b[0m \u001b[0mbayesian_blocks\u001b[0m\u001b[1;33m\u001b[0m\u001b[1;33m\u001b[0m\u001b[0m\n\u001b[0m\u001b[0;32m     15\u001b[0m \u001b[1;32mfrom\u001b[0m \u001b[0mscipy\u001b[0m\u001b[1;33m.\u001b[0m\u001b[0mstats\u001b[0m\u001b[1;33m.\u001b[0m\u001b[0mstats\u001b[0m \u001b[1;32mimport\u001b[0m \u001b[0mchisquare\u001b[0m\u001b[1;33m\u001b[0m\u001b[1;33m\u001b[0m\u001b[0m\n\u001b[0;32m     16\u001b[0m \u001b[1;33m\u001b[0m\u001b[0m\n",
      "\u001b[1;32m~\\Anaconda3\\lib\\site-packages\\astropy\\__init__.py\u001b[0m in \u001b[0;36m<module>\u001b[1;34m\u001b[0m\n\u001b[0;32m     89\u001b[0m \u001b[1;33m\u001b[0m\u001b[0m\n\u001b[0;32m     90\u001b[0m \u001b[1;33m\u001b[0m\u001b[0m\n\u001b[1;32m---> 91\u001b[1;33m \u001b[0m_check_requirement\u001b[0m\u001b[1;33m(\u001b[0m\u001b[1;34m'numpy'\u001b[0m\u001b[1;33m,\u001b[0m \u001b[0m__minimum_numpy_version__\u001b[0m\u001b[1;33m)\u001b[0m\u001b[1;33m\u001b[0m\u001b[1;33m\u001b[0m\u001b[0m\n\u001b[0m\u001b[0;32m     92\u001b[0m \u001b[0m_check_requirement\u001b[0m\u001b[1;33m(\u001b[0m\u001b[1;34m'erfa'\u001b[0m\u001b[1;33m,\u001b[0m \u001b[0m__minimum_erfa_version__\u001b[0m\u001b[1;33m)\u001b[0m\u001b[1;33m\u001b[0m\u001b[1;33m\u001b[0m\u001b[0m\n\u001b[0;32m     93\u001b[0m \u001b[1;33m\u001b[0m\u001b[0m\n",
      "\u001b[1;32m~\\Anaconda3\\lib\\site-packages\\astropy\\__init__.py\u001b[0m in \u001b[0;36m_check_requirement\u001b[1;34m(name, minimum_version)\u001b[0m\n\u001b[0;32m     84\u001b[0m         msg = (f\"{name} version {minimum_version} or later must \"\n\u001b[0;32m     85\u001b[0m                f\"be installed to use Astropy. {import_fail}\")\n\u001b[1;32m---> 86\u001b[1;33m         \u001b[1;32mraise\u001b[0m \u001b[0mImportError\u001b[0m\u001b[1;33m(\u001b[0m\u001b[0mmsg\u001b[0m\u001b[1;33m)\u001b[0m\u001b[1;33m\u001b[0m\u001b[1;33m\u001b[0m\u001b[0m\n\u001b[0m\u001b[0;32m     87\u001b[0m \u001b[1;33m\u001b[0m\u001b[0m\n\u001b[0;32m     88\u001b[0m     \u001b[1;32mreturn\u001b[0m \u001b[0mmodule\u001b[0m\u001b[1;33m\u001b[0m\u001b[1;33m\u001b[0m\u001b[0m\n",
      "\u001b[1;31mImportError\u001b[0m: numpy version 1.17.0 or later must be installed to use Astropy. "
     ]
    }
   ],
   "source": [
    "import pandas_profiling"
   ]
  },
  {
   "cell_type": "code",
   "execution_count": 85,
   "metadata": {},
   "outputs": [
    {
     "ename": "NameError",
     "evalue": "name 'pyLDAvis' is not defined",
     "output_type": "error",
     "traceback": [
      "\u001b[1;31m---------------------------------------------------------------------------\u001b[0m",
      "\u001b[1;31mNameError\u001b[0m                                 Traceback (most recent call last)",
      "\u001b[1;32m<ipython-input-85-6ef3c9c42a50>\u001b[0m in \u001b[0;36m<module>\u001b[1;34m\u001b[0m\n\u001b[0;32m      1\u001b[0m \u001b[1;31m##représentation du graphique interactif\u001b[0m\u001b[1;33m\u001b[0m\u001b[1;33m\u001b[0m\u001b[1;33m\u001b[0m\u001b[0m\n\u001b[0;32m      2\u001b[0m \u001b[1;33m\u001b[0m\u001b[0m\n\u001b[1;32m----> 3\u001b[1;33m \u001b[0mpyLDAvis\u001b[0m\u001b[1;33m.\u001b[0m\u001b[0msklearn\u001b[0m\u001b[1;33m.\u001b[0m\u001b[0mprepare\u001b[0m\u001b[1;33m(\u001b[0m\u001b[0mlda\u001b[0m\u001b[1;33m,\u001b[0m \u001b[0mtfidf\u001b[0m\u001b[1;33m,\u001b[0m \u001b[0mtfidf_vectorizer\u001b[0m\u001b[1;33m)\u001b[0m\u001b[1;33m\u001b[0m\u001b[1;33m\u001b[0m\u001b[0m\n\u001b[0m",
      "\u001b[1;31mNameError\u001b[0m: name 'pyLDAvis' is not defined"
     ]
    }
   ],
   "source": [
    "##représentation du graphique interactif\n",
    "\n",
    "pyLDAvis.sklearn.prepare(lda, tfidf, tfidf_vectorizer)"
   ]
  },
  {
   "cell_type": "code",
   "execution_count": null,
   "metadata": {},
   "outputs": [],
   "source": []
  }
 ],
 "metadata": {
  "kernelspec": {
   "display_name": "Python 3",
   "language": "python",
   "name": "python3"
  },
  "language_info": {
   "codemirror_mode": {
    "name": "ipython",
    "version": 3
   },
   "file_extension": ".py",
   "mimetype": "text/x-python",
   "name": "python",
   "nbconvert_exporter": "python",
   "pygments_lexer": "ipython3",
   "version": "3.7.4"
  }
 },
 "nbformat": 4,
 "nbformat_minor": 2
}
